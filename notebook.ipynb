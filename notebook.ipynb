{
 "cells": [
  {
   "cell_type": "code",
   "execution_count": 1,
   "metadata": {},
   "outputs": [
    {
     "name": "stderr",
     "output_type": "stream",
     "text": [
      "Qt: Session management error: Could not open network socket\n"
     ]
    }
   ],
   "source": [
    "from src.qgis_project_creator import Metadata, Settings, Project\n",
    "from pathlib import Path\n",
    "import os\n",
    "import shutil\n",
    "\n",
    "\n",
    "TESTDIR = Path(os.getcwd()) / \"tmp\"\n",
    "if os.path.exists(TESTDIR):\n",
    "    shutil.rmtree(TESTDIR)\n",
    "TESTDIR.mkdir()\n",
    "\n",
    "settings = Settings(epsg=25832, project_home=TESTDIR)\n",
    "metadata = Metadata(\n",
    "    author=\"Florian Frosch\",\n",
    "    title=\"Test Title\",\n",
    "    description=\"Test Description\",\n",
    "    version=\"0.0.1\",\n",
    ")"
   ]
  },
  {
   "cell_type": "code",
   "execution_count": 2,
   "metadata": {},
   "outputs": [],
   "source": [
    "p = Project(metadata, settings)\n",
    "p.to_qgz(\"test.qgz\")"
   ]
  }
 ],
 "metadata": {
  "kernelspec": {
   "display_name": "qgis-project-creator-dev",
   "language": "python",
   "name": "python3"
  },
  "language_info": {
   "codemirror_mode": {
    "name": "ipython",
    "version": 3
   },
   "file_extension": ".py",
   "mimetype": "text/x-python",
   "name": "python",
   "nbconvert_exporter": "python",
   "pygments_lexer": "ipython3",
   "version": "3.12.3"
  }
 },
 "nbformat": 4,
 "nbformat_minor": 2
}
